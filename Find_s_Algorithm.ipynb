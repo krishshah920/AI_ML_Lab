{
  "nbformat": 4,
  "nbformat_minor": 0,
  "metadata": {
    "colab": {
      "name": "Find-s Algorithm",
      "provenance": [],
      "collapsed_sections": [],
      "authorship_tag": "ABX9TyPWAr13Ri7gLBrN24AJ098N",
      "include_colab_link": true
    },
    "kernelspec": {
      "name": "python3",
      "display_name": "Python 3"
    },
    "language_info": {
      "name": "python"
    }
  },
  "cells": [
    {
      "cell_type": "markdown",
      "metadata": {
        "id": "view-in-github",
        "colab_type": "text"
      },
      "source": [
        "<a href=\"https://colab.research.google.com/github/krishshah920/AI_ML_Lab/blob/main/Find_s_Algorithm.ipynb\" target=\"_parent\"><img src=\"https://colab.research.google.com/assets/colab-badge.svg\" alt=\"Open In Colab\"/></a>"
      ]
    },
    {
      "cell_type": "markdown",
      "metadata": {
        "id": "Lw3YxNOvbGL6"
      },
      "source": [
        "**Find-s Algorithm**\n"
      ]
    },
    {
      "cell_type": "markdown",
      "metadata": {
        "id": "Z-4yxjBubzBz"
      },
      "source": [
        "1. Initialize h to the most specific hypothesis in H\n",
        "2.For each positive training instance x\n",
        "    For each attribute constraint a in h\n",
        "      If the constraint a is satisfied by x\n",
        "        The do nothing\n",
        "      Else\n",
        "        replace a in h by the next more general constraint that is satisfied by x\n",
        "3.Output hypothesis h\n"
      ]
    },
    {
      "cell_type": "markdown",
      "metadata": {
        "id": "t3sqNlIxcvHv"
      },
      "source": [
        "**Program**"
      ]
    },
    {
      "cell_type": "code",
      "metadata": {
        "id": "_q8tQqQBbMPx"
      },
      "source": [
        ""
      ],
      "execution_count": null,
      "outputs": []
    }
  ]
}