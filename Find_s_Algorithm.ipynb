{
  "nbformat": 4,
  "nbformat_minor": 0,
  "metadata": {
    "colab": {
      "name": "Find-s Algorithm",
      "provenance": [],
      "collapsed_sections": [],
      "authorship_tag": "ABX9TyPDT3se9XJKDs8gyLERBF3Z",
      "include_colab_link": true
    },
    "kernelspec": {
      "name": "python3",
      "display_name": "Python 3"
    },
    "language_info": {
      "name": "python"
    }
  },
  "cells": [
    {
      "cell_type": "markdown",
      "metadata": {
        "id": "view-in-github",
        "colab_type": "text"
      },
      "source": [
        "<a href=\"https://colab.research.google.com/github/krishshah920/AI_ML_Lab/blob/main/Find_s_Algorithm.ipynb\" target=\"_parent\"><img src=\"https://colab.research.google.com/assets/colab-badge.svg\" alt=\"Open In Colab\"/></a>"
      ]
    },
    {
      "cell_type": "markdown",
      "metadata": {
        "id": "Lw3YxNOvbGL6"
      },
      "source": [
        "**Find-s Algorithm**\n"
      ]
    },
    {
      "cell_type": "markdown",
      "metadata": {
        "id": "Z-4yxjBubzBz"
      },
      "source": [
        "1. Initialize h to the most specific hypothesis in H\n",
        "2.For each positive training instance x\n",
        "      For each attribute constraint a in h\n",
        "        If the constraint a is satisfied by x\n",
        "           The do nothing\n",
        "        Else\n",
        "          replace a in h by the next more general constraint that is satisfied by x\n",
        "3.Output hypothesis h\n"
      ]
    },
    {
      "cell_type": "markdown",
      "metadata": {
        "id": "t3sqNlIxcvHv"
      },
      "source": [
        "**Program**"
      ]
    },
    {
      "cell_type": "code",
      "metadata": {
        "colab": {
          "base_uri": "https://localhost:8080/",
          "height": 175
        },
        "id": "_q8tQqQBbMPx",
        "outputId": "761ace19-ba1e-436d-fe4b-56f4ea8a9f9b"
      },
      "source": [
        "import pandas as pd\n",
        "import numpy as np\n",
        "\n",
        "data = pd.read_csv('finds.csv')\n",
        "data"
      ],
      "execution_count": 2,
      "outputs": [
        {
          "output_type": "execute_result",
          "data": {
            "text/html": [
              "<div>\n",
              "<style scoped>\n",
              "    .dataframe tbody tr th:only-of-type {\n",
              "        vertical-align: middle;\n",
              "    }\n",
              "\n",
              "    .dataframe tbody tr th {\n",
              "        vertical-align: top;\n",
              "    }\n",
              "\n",
              "    .dataframe thead th {\n",
              "        text-align: right;\n",
              "    }\n",
              "</style>\n",
              "<table border=\"1\" class=\"dataframe\">\n",
              "  <thead>\n",
              "    <tr style=\"text-align: right;\">\n",
              "      <th></th>\n",
              "      <th>sky</th>\n",
              "      <th>air temp</th>\n",
              "      <th>humidity</th>\n",
              "      <th>wind</th>\n",
              "      <th>water</th>\n",
              "      <th>forecast</th>\n",
              "      <th>enjoy sport</th>\n",
              "    </tr>\n",
              "  </thead>\n",
              "  <tbody>\n",
              "    <tr>\n",
              "      <th>0</th>\n",
              "      <td>sunny</td>\n",
              "      <td>warm</td>\n",
              "      <td>normal</td>\n",
              "      <td>strong</td>\n",
              "      <td>warm</td>\n",
              "      <td>same</td>\n",
              "      <td>yes</td>\n",
              "    </tr>\n",
              "    <tr>\n",
              "      <th>1</th>\n",
              "      <td>sunny</td>\n",
              "      <td>warm</td>\n",
              "      <td>high</td>\n",
              "      <td>strong</td>\n",
              "      <td>warm</td>\n",
              "      <td>same</td>\n",
              "      <td>yes</td>\n",
              "    </tr>\n",
              "    <tr>\n",
              "      <th>2</th>\n",
              "      <td>rainy</td>\n",
              "      <td>cold</td>\n",
              "      <td>high</td>\n",
              "      <td>strong</td>\n",
              "      <td>warm</td>\n",
              "      <td>change</td>\n",
              "      <td>no</td>\n",
              "    </tr>\n",
              "    <tr>\n",
              "      <th>3</th>\n",
              "      <td>sunny</td>\n",
              "      <td>warm</td>\n",
              "      <td>high</td>\n",
              "      <td>strong</td>\n",
              "      <td>cool</td>\n",
              "      <td>change</td>\n",
              "      <td>yes</td>\n",
              "    </tr>\n",
              "  </tbody>\n",
              "</table>\n",
              "</div>"
            ],
            "text/plain": [
              "     sky air temp  humidity    wind water forecast enjoy sport\n",
              "0  sunny     warm    normal  strong  warm     same         yes\n",
              "1  sunny     warm      high  strong  warm     same         yes\n",
              "2  rainy     cold      high  strong  warm   change          no\n",
              "3  sunny     warm      high  strong  cool   change         yes"
            ]
          },
          "metadata": {},
          "execution_count": 2
        }
      ]
    },
    {
      "cell_type": "code",
      "metadata": {
        "colab": {
          "base_uri": "https://localhost:8080/"
        },
        "id": "5-Xr6k9hkWJb",
        "outputId": "9745eda3-a876-4406-e1bb-27f5f3b571a2"
      },
      "source": [
        "concept = np.array(data)[:,:-1]\n",
        "concept\n"
      ],
      "execution_count": 4,
      "outputs": [
        {
          "output_type": "execute_result",
          "data": {
            "text/plain": [
              "array([['sunny', 'warm', 'normal', 'strong', 'warm', 'same'],\n",
              "       ['sunny', 'warm', 'high', 'strong', 'warm', 'same'],\n",
              "       ['rainy', 'cold', 'high', 'strong', 'warm', 'change'],\n",
              "       ['sunny', 'warm', 'high', 'strong', 'cool', 'change']],\n",
              "      dtype=object)"
            ]
          },
          "metadata": {},
          "execution_count": 4
        }
      ]
    },
    {
      "cell_type": "code",
      "metadata": {
        "colab": {
          "base_uri": "https://localhost:8080/"
        },
        "id": "AJ5S2W3LlRRr",
        "outputId": "c507b090-18a4-462e-e8ef-9b23dd2fb298"
      },
      "source": [
        "target = np.array(data)[:,-1]\n",
        "target"
      ],
      "execution_count": 5,
      "outputs": [
        {
          "output_type": "execute_result",
          "data": {
            "text/plain": [
              "array(['yes', 'yes', 'no', 'yes'], dtype=object)"
            ]
          },
          "metadata": {},
          "execution_count": 5
        }
      ]
    },
    {
      "cell_type": "code",
      "metadata": {
        "id": "de4Mk4Aflonw"
      },
      "source": [
        "def training(con,tar):\n",
        "  for i,val in enumerate(tar):\n",
        "    if val=='yes':\n",
        "      specific_hyp = con[i].copy()\n",
        "      break\n",
        "  for i,val in enumerate(con):\n",
        "    if val=='yes':\n",
        "      for x in range(len(specific_hyp)):\n",
        "        if val[x] != specific_hyp[x]:\n",
        "          specific_hyp[x] = '?'\n",
        "        else:\n",
        "          pass\n",
        "  return specific_hyp\n",
        "\n",
        "  "
      ],
      "execution_count": 9,
      "outputs": []
    },
    {
      "cell_type": "code",
      "metadata": {
        "colab": {
          "base_uri": "https://localhost:8080/",
          "height": 288
        },
        "id": "bgKDZoQ9os-F",
        "outputId": "eed1c75f-872e-422d-f94e-382431292202"
      },
      "source": [
        "print(training(concept,target))\n"
      ],
      "execution_count": 10,
      "outputs": [
        {
          "output_type": "error",
          "ename": "ValueError",
          "evalue": "ignored",
          "traceback": [
            "\u001b[0;31m---------------------------------------------------------------------------\u001b[0m",
            "\u001b[0;31mValueError\u001b[0m                                Traceback (most recent call last)",
            "\u001b[0;32m<ipython-input-10-f4ec0eacb2e4>\u001b[0m in \u001b[0;36m<module>\u001b[0;34m()\u001b[0m\n\u001b[0;32m----> 1\u001b[0;31m \u001b[0mprint\u001b[0m\u001b[0;34m(\u001b[0m\u001b[0mtraining\u001b[0m\u001b[0;34m(\u001b[0m\u001b[0mconcept\u001b[0m\u001b[0;34m,\u001b[0m\u001b[0mtarget\u001b[0m\u001b[0;34m)\u001b[0m\u001b[0;34m)\u001b[0m\u001b[0;34m\u001b[0m\u001b[0;34m\u001b[0m\u001b[0m\n\u001b[0m",
            "\u001b[0;32m<ipython-input-9-c59ae83bc011>\u001b[0m in \u001b[0;36mtraining\u001b[0;34m(con, tar)\u001b[0m\n\u001b[1;32m      5\u001b[0m       \u001b[0;32mbreak\u001b[0m\u001b[0;34m\u001b[0m\u001b[0;34m\u001b[0m\u001b[0m\n\u001b[1;32m      6\u001b[0m   \u001b[0;32mfor\u001b[0m \u001b[0mi\u001b[0m\u001b[0;34m,\u001b[0m\u001b[0mval\u001b[0m \u001b[0;32min\u001b[0m \u001b[0menumerate\u001b[0m\u001b[0;34m(\u001b[0m\u001b[0mcon\u001b[0m\u001b[0;34m)\u001b[0m\u001b[0;34m:\u001b[0m\u001b[0;34m\u001b[0m\u001b[0;34m\u001b[0m\u001b[0m\n\u001b[0;32m----> 7\u001b[0;31m     \u001b[0;32mif\u001b[0m \u001b[0mval\u001b[0m\u001b[0;34m==\u001b[0m\u001b[0;34m'yes'\u001b[0m\u001b[0;34m:\u001b[0m\u001b[0;34m\u001b[0m\u001b[0;34m\u001b[0m\u001b[0m\n\u001b[0m\u001b[1;32m      8\u001b[0m       \u001b[0;32mfor\u001b[0m \u001b[0mx\u001b[0m \u001b[0;32min\u001b[0m \u001b[0mrange\u001b[0m\u001b[0;34m(\u001b[0m\u001b[0mlen\u001b[0m\u001b[0;34m(\u001b[0m\u001b[0mspecific_hyp\u001b[0m\u001b[0;34m)\u001b[0m\u001b[0;34m)\u001b[0m\u001b[0;34m:\u001b[0m\u001b[0;34m\u001b[0m\u001b[0;34m\u001b[0m\u001b[0m\n\u001b[1;32m      9\u001b[0m         \u001b[0;32mif\u001b[0m \u001b[0mval\u001b[0m\u001b[0;34m[\u001b[0m\u001b[0mx\u001b[0m\u001b[0;34m]\u001b[0m \u001b[0;34m!=\u001b[0m \u001b[0mspecific_hyp\u001b[0m\u001b[0;34m[\u001b[0m\u001b[0mx\u001b[0m\u001b[0;34m]\u001b[0m\u001b[0;34m:\u001b[0m\u001b[0;34m\u001b[0m\u001b[0;34m\u001b[0m\u001b[0m\n",
            "\u001b[0;31mValueError\u001b[0m: The truth value of an array with more than one element is ambiguous. Use a.any() or a.all()"
          ]
        }
      ]
    }
  ]
}